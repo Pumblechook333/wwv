{
 "cells": [
  {
   "cell_type": "code",
   "execution_count": 10,
   "metadata": {},
   "outputs": [],
   "source": [
    "# Setup date and kwargs\n",
    "\n",
    "class grapeEvents():\n",
    "    # DATAPATH = \"C:/Users/sabas/Documents/NJIT/Work/wwv/DATA\"\n",
    "    DATAPATH = 'DATA/NJ_data/wwv_jul_2021'\n",
    "\n",
    "    def __init__(self):\n",
    "\n",
    "        self.jul21 = {\n",
    "            'year': 2021,\n",
    "            'month': 7,\n",
    "            'day': 1,\n",
    "            'filename': f'{self.DATAPATH}/2021-07-01T000000Z_N0000020_G1_FN20vr_FRQ_WWV10.csv',\n",
    "            'foldername': self.DATAPATH,\n",
    "        }\n",
    "\n",
    "evs = grapeEvents()\n",
    "\n",
    "date = evs.jul21\n",
    "\n",
    "year = date.get(\"year\")\n",
    "month = date.get(\"month\")\n",
    "day = date.get(\"day\")\n",
    "folder = date.get(\"foldername\")\n",
    "\n",
    "kwargs = {\n",
    "    # Grape Parameters\n",
    "    'mbl' : 5,\n",
    "    'filename': date.get(\"filename\"),\n",
    "    'figfolder': 'NJ_tiles/tiles_2021',\n",
    "\n",
    "    # Plot Parameters\n",
    "    'SPO' : True,\n",
    "    'val': 'pwr',\n",
    "    'local': True,\n",
    "    'axis2': None,\n",
    "    'end_times': True,\n",
    "    'ylim': [-0.5, 0.5],\n",
    "\n",
    "    'filt': True,\n",
    "    'comb': True,\n",
    "    'med': False,\n",
    "    'tShift': False,\n",
    "    'n': 1,\n",
    "}"
   ]
  },
  {
   "cell_type": "code",
   "execution_count": 11,
   "metadata": {},
   "outputs": [
    {
     "name": "stdout",
     "output_type": "stream",
     "text": [
      "True\n",
      "Grape Handler NJ 2021-07-01 through 2021-07-31 loaded!\n"
     ]
    }
   ],
   "source": [
    "# Get grape for specified date\n",
    "import grape\n",
    "import os\n",
    "\n",
    "pickle = 'PICKLES/jul21'\n",
    "\n",
    "pkl_exists = os.path.exists(pickle + '.pkl')\n",
    "\n",
    "print(pkl_exists)\n",
    "\n",
    "if pkl_exists:\n",
    "    g = grape.unpickle_grape(pickle + '.pkl')\n",
    "else:\n",
    "    g = grape.GrapeHandler([folder], **kwargs)\n",
    "    grape.pickle_grape(g, filename=pickle)"
   ]
  },
  {
   "cell_type": "code",
   "execution_count": 12,
   "metadata": {},
   "outputs": [],
   "source": [
    "# Get plot parameters\n",
    "valname = kwargs.get('valname', 'f')\n",
    "minBinLen = kwargs.get('mbl', 5)\n",
    "ylim = kwargs.get('ylim', None)\n",
    "fSize = kwargs.get('fsize', 26)\n"
   ]
  },
  {
   "cell_type": "code",
   "execution_count": 13,
   "metadata": {},
   "outputs": [
    {
     "name": "stderr",
     "output_type": "stream",
     "text": [
      "c:\\Users\\sabas\\anaconda\\envs\\wwv\\lib\\site-packages\\matplotlib\\cbook\\__init__.py:1335: ComplexWarning: Casting complex values to real discards the imaginary part\n",
      "  return np.asarray(x, float)\n"
     ]
    }
   ],
   "source": [
    "figname = grape.figname(**kwargs)\n",
    "g.tileTrend(figname, ylim, minBinLen, fSize)"
   ]
  },
  {
   "cell_type": "code",
   "execution_count": null,
   "metadata": {},
   "outputs": [],
   "source": []
  }
 ],
 "metadata": {
  "kernelspec": {
   "display_name": "wwv",
   "language": "python",
   "name": "python3"
  },
  "language_info": {
   "codemirror_mode": {
    "name": "ipython",
    "version": 3
   },
   "file_extension": ".py",
   "mimetype": "text/x-python",
   "name": "python",
   "nbconvert_exporter": "python",
   "pygments_lexer": "ipython3",
   "version": "3.9.16"
  }
 },
 "nbformat": 4,
 "nbformat_minor": 2
}
