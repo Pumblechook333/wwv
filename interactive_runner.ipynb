{
 "cells": [
  {
   "cell_type": "code",
   "execution_count": 1,
   "metadata": {},
   "outputs": [],
   "source": [
    "# Setup date and kwargs\n",
    "\n",
    "class grapeEvents():\n",
    "    DATAPATH = \"C:/Users/sabas/Documents/NJIT/Work/wwv/DATA\"\n",
    "\n",
    "    def __init__(self):\n",
    "\n",
    "        self.flare23 = {\n",
    "            'year': 2023,\n",
    "            'month': 11,\n",
    "            'day': 28,\n",
    "            'filename': f'{self.DATAPATH}/flare_nov_23/2023-11-28T000000Z_N0000020_G1_FN20vr_FRQ_WWV10.csv',\n",
    "        }\n",
    "\n",
    "        self.eclipse24 = {\n",
    "            'year': 2023,\n",
    "            'month': 11,\n",
    "            'day': 28,\n",
    "            'filename': f'{self.DATAPATH}/tot_eclipse_24/2024-04-08T000000Z_N0000020_G1_FN20vr_FRQ_WWV10.csv',\n",
    "        }\n",
    "\n",
    "        self.quietday = {\n",
    "            'year': 2021,\n",
    "            'month': 7,\n",
    "            'day': 1,\n",
    "            'filename': f'{self.DATAPATH}/NJ_data/wwv_jul_2021/2021-07-01T000000Z_N0000020_G1_FN20vr_FRQ_WWV10.csv',\n",
    "        }\n",
    "\n",
    "evs = grapeEvents()\n",
    "\n",
    "# date = evs.eclipse24\n",
    "# date = evs.flare23\n",
    "date = evs.quietday\n",
    "\n",
    "year = date.get(\"year\")\n",
    "month = date.get(\"month\")\n",
    "day = date.get(\"day\")\n",
    "\n",
    "kwargs = {\n",
    "    # Grape Parameters\n",
    "    'mbl' : 5,\n",
    "    'filename': date.get(\"filename\"),\n",
    "\n",
    "    # Plot Parameters\n",
    "    'SPO' : True,\n",
    "    'val': 'pwr',\n",
    "    'local': True,\n",
    "    'axis2': None,\n",
    "    'end_times': True,\n",
    "}"
   ]
  },
  {
   "cell_type": "code",
   "execution_count": 2,
   "metadata": {},
   "outputs": [
    {
     "name": "stderr",
     "output_type": "stream",
     "text": [
      "c:\\Users\\sabas\\anaconda\\envs\\wwv\\lib\\site-packages\\suncalc\\suncalc.py:202: RuntimeWarning: invalid value encountered in arccos\n",
      "  return acos((sin(h) - sin(phi) * sin(d)) / (cos(phi) * cos(d)))\n",
      "c:\\Users\\sabas\\anaconda\\envs\\wwv\\lib\\site-packages\\pandas\\core\\tools\\datetimes.py:557: RuntimeWarning: invalid value encountered in cast\n",
      "  arr, tz_parsed = tslib.array_with_unit_to_datetime(arg, unit, errors=errors)\n"
     ]
    }
   ],
   "source": [
    "# Get grape for specified date\n",
    "import grape\n",
    "\n",
    "g = grape.grapeLoad(year, month, day, **kwargs)\n"
   ]
  },
  {
   "cell_type": "code",
   "execution_count": 3,
   "metadata": {},
   "outputs": [],
   "source": [
    "# Get plot parameters\n",
    "valname = kwargs.get('valname', 'f')\n",
    "minBinLen = kwargs.get('mbl', 5)\n",
    "ylim = kwargs.get('ylim', None)\n",
    "fSize = kwargs.get('fsize', 26)\n"
   ]
  },
  {
   "cell_type": "code",
   "execution_count": 4,
   "metadata": {},
   "outputs": [
    {
     "name": "stderr",
     "output_type": "stream",
     "text": [
      "c:\\Users\\sabas\\anaconda\\envs\\wwv\\lib\\site-packages\\matplotlib\\cbook\\__init__.py:1335: ComplexWarning: Casting complex values to real discards the imaginary part\n",
      "  return np.asarray(x, float)\n"
     ]
    }
   ],
   "source": [
    "# Create RT overplot\n",
    "figname = 'FIGURES/rtplot/rtplot'\n",
    "# figname = grape.figname(**kwargs)\n",
    "\n",
    "g.dopRtPlot(figname, \n",
    "            ylim=ylim, \n",
    "            fSize=fSize)\n"
   ]
  },
  {
   "cell_type": "code",
   "execution_count": 5,
   "metadata": {},
   "outputs": [],
   "source": [
    "# # Create Best Fits Plot\n",
    "# figname = grape.figname(**kwargs)\n",
    "\n",
    "# g.bestFitsPlot(valname, figname,\n",
    "#                 minBinLen=minBinLen,\n",
    "#                 ylim=ylim,\n",
    "#                 fSize=fSize)\n"
   ]
  },
  {
   "cell_type": "code",
   "execution_count": 6,
   "metadata": {},
   "outputs": [],
   "source": [
    "# # Create Doppler Plot\n",
    "# figname = grape.figname(**kwargs)\n",
    "\n",
    "# g.dopPowPlot(figname, ylim, fSize, **kwargs)\n"
   ]
  },
  {
   "cell_type": "code",
   "execution_count": null,
   "metadata": {},
   "outputs": [],
   "source": []
  }
 ],
 "metadata": {
  "kernelspec": {
   "display_name": "wwv",
   "language": "python",
   "name": "python3"
  },
  "language_info": {
   "codemirror_mode": {
    "name": "ipython",
    "version": 3
   },
   "file_extension": ".py",
   "mimetype": "text/x-python",
   "name": "python",
   "nbconvert_exporter": "python",
   "pygments_lexer": "ipython3",
   "version": "3.9.16"
  }
 },
 "nbformat": 4,
 "nbformat_minor": 2
}
