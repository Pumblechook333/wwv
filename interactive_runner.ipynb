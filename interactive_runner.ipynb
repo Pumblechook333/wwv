{
 "cells": [
  {
   "cell_type": "code",
   "execution_count": 1,
   "metadata": {},
   "outputs": [],
   "source": [
    "# Get grape for specified date\n",
    "import grape\n",
    "\n",
    "year = 2021\n",
    "month = 7\n",
    "day = 1\n",
    "\n",
    "kwargs = {'mbl' : 5,\n",
    "          'SPO' : False}\n",
    "\n",
    "g = grape.grapeLoad(year, month, day, **kwargs)\n"
   ]
  },
  {
   "cell_type": "code",
   "execution_count": 2,
   "metadata": {},
   "outputs": [],
   "source": [
    "# Get plot parameters\n",
    "valname = kwargs.get('valname', 'f')\n",
    "minBinLen = kwargs.get('mbl', 5)\n",
    "ylim = kwargs.get('ylim', None)\n",
    "fSize = kwargs.get('fsize', 26)\n"
   ]
  },
  {
   "cell_type": "code",
   "execution_count": 3,
   "metadata": {},
   "outputs": [],
   "source": [
    "# Create RT overplot\n",
    "figname = 'FIGURES/rtplot/rtplot'\n",
    "\n",
    "g.dopRtPlot(figname, \n",
    "            ylim=ylim, \n",
    "            fSize=fSize)\n"
   ]
  },
  {
   "cell_type": "code",
   "execution_count": 4,
   "metadata": {},
   "outputs": [],
   "source": [
    "# # Create Best Fits Plot\n",
    "# figname = grape.figname(**kwargs)\n",
    "\n",
    "# g.bestFitsPlot(valname, figname,\n",
    "#                 minBinLen=minBinLen,\n",
    "#                 ylim=ylim,\n",
    "#                 fSize=fSize)\n"
   ]
  },
  {
   "cell_type": "code",
   "execution_count": 5,
   "metadata": {},
   "outputs": [],
   "source": [
    "# # Create Doppler Plot\n",
    "# figname = grape.figname(**kwargs)\n",
    "\n",
    "# g.dopPowPlot(figname, ylim, fSize, \n",
    "#              axis2='sza', \n",
    "#              val='freq', \n",
    "#              end_times=False, \n",
    "#              local=False, \n",
    "#              **kwargs)\n"
   ]
  },
  {
   "cell_type": "code",
   "execution_count": null,
   "metadata": {},
   "outputs": [],
   "source": []
  }
 ],
 "metadata": {
  "kernelspec": {
   "display_name": "wwv",
   "language": "python",
   "name": "python3"
  },
  "language_info": {
   "codemirror_mode": {
    "name": "ipython",
    "version": 3
   },
   "file_extension": ".py",
   "mimetype": "text/x-python",
   "name": "python",
   "nbconvert_exporter": "python",
   "pygments_lexer": "ipython3",
   "version": "3.9.16"
  }
 },
 "nbformat": 4,
 "nbformat_minor": 2
}
